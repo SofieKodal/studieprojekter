{
 "cells": [
  {
   "cell_type": "code",
   "execution_count": null,
   "outputs": [],
   "source": [
    "# Q1 C"
   ],
   "metadata": {
    "collapsed": false
   }
  },
  {
   "cell_type": "code",
   "execution_count": 3,
   "metadata": {},
   "outputs": [],
   "source": [
    "# x1 x2 positive cov big # rule out B\n",
    "# x1 x3 negative cov big # rule out \n",
    "# x1 x4 positive cov     # rule out A\n",
    "\n",
    "# x2 x3 negative cov \n",
    "# x2 x4 positive cov \n",
    "# x3 x4 negative cov\n",
    "# D has negtive cov for each wwiht itself so wrong"
   ]
  },
  {
   "cell_type": "markdown",
   "metadata": {},
   "source": [
    "# Q2 D"
   ]
  },
  {
   "cell_type": "code",
   "execution_count": 4,
   "metadata": {
    "pycharm": {
     "is_executing": true
    }
   },
   "outputs": [],
   "source": [
    "import numpy as np\n",
    "# 1 is Perimeter\n",
    "# 2 is Width\n",
    "# 3 is Area\n",
    "# 4 is Length"
   ]
  },
  {
   "cell_type": "markdown",
   "metadata": {},
   "source": [
    "# Q3 B"
   ]
  },
  {
   "cell_type": "code",
   "execution_count": 110,
   "metadata": {},
   "outputs": [
    {
     "data": {
      "text/plain": [
       "(2.52, 7.87)"
      ]
     },
     "execution_count": 110,
     "metadata": {},
     "output_type": "execute_result"
    }
   ],
   "source": [
    "# \n",
    "pc1 = np.array([-0.84,0.14,0.52])\n",
    "pc2 = np.array([0.53,0.39,0.75])\n",
    "x3 = np.array([2,4,7])\n",
    "round(pc1.dot(x3),2),pc2.dot(x3)"
   ]
  },
  {
   "cell_type": "markdown",
   "metadata": {},
   "source": [
    "# Q4 D"
   ]
  },
  {
   "cell_type": "code",
   "execution_count": 111,
   "metadata": {},
   "outputs": [
    {
     "name": "stdout",
     "output_type": "stream",
     "text": [
      "[0.93935997 0.94268068 0.94428178 1.        ]\n"
     ]
    },
    {
     "data": {
      "text/plain": [
       "array([0.99063332, 0.99413529, 0.99582378, 1.        ])"
      ]
     },
     "execution_count": 111,
     "metadata": {},
     "output_type": "execute_result"
    }
   ],
   "source": [
    "# \n",
    "l = np.array([49.8364, 2.9631, 2.0575, 12.1375]) # confirmed is 12\n",
    "print(np.cumsum(l ** 2)/sum(l**2))\n",
    "l = np.array([49.8364, 2.9631, 2.0575, 3.2358])\n",
    "np.cumsum(l ** 2)/sum(l**2)"
   ]
  },
  {
   "cell_type": "code",
   "execution_count": 23,
   "metadata": {},
   "outputs": [
    {
     "name": "stdout",
     "output_type": "stream",
     "text": [
      "0.028174929999999987\n",
      "1.3149999999989559e-05\n",
      "0.028174929999999987\n",
      "1.3149999999989559e-05\n",
      "0.028174929999999987\n",
      "1.3149999999989559e-05\n"
     ]
    }
   ],
   "source": [
    "# must be orthogonal\n",
    "V = np.array([0.5133, 0.4679, -0.7071, \n",
    "              0.5109, -0.8066, -0.2036, \n",
    "              0.4915, 0.3611, 0.4769, \n",
    "              0.4838, -0.0116, 0.4808]).reshape((4,-1))\n",
    "v2 = np.array([0.8180, - 0.2276, - 0.5273, - 0.0336,\n",
    "              -0.1327, 0.2168, 0.6330, -0.7312]).reshape((2,-1))\n",
    "for i in range(3):\n",
    "    print(V[:,0].dot(v2[0]))\n",
    "    print(V[:,0].dot(v2[1]))"
   ]
  },
  {
   "cell_type": "markdown",
   "metadata": {},
   "source": [
    "# Q5 C"
   ]
  },
  {
   "cell_type": "code",
   "execution_count": 112,
   "metadata": {},
   "outputs": [
    {
     "data": {
      "text/plain": [
       "0.0151"
      ]
     },
     "execution_count": 112,
     "metadata": {},
     "output_type": "execute_result"
    }
   ],
   "source": [
    "from Functions import purity_gain\n",
    "Nr =  np.array([204, 166, 197, 94])\n",
    "# first split\n",
    "N11 = np.array([204, 21, 107, 80])\n",
    "N12 = Nr-N11\n",
    "p1 = purity_gain(Nr, N11, N12)\n",
    "# second split\n",
    "N21 = np.array([204, 31, 128, 84])\n",
    "N22 = Nr-N21\n",
    "p2 = purity_gain(Nr, N21, N22)\n",
    "round(p1-p2,4)"
   ]
  },
  {
   "cell_type": "markdown",
   "metadata": {},
   "source": [
    "# Q6 A"
   ]
  },
  {
   "cell_type": "code",
   "execution_count": 31,
   "metadata": {},
   "outputs": [],
   "source": [
    "# (5,5) must be infinity norm must be A, rule out B and D\n",
    "# (7, 4) is one norm \n",
    "# B is the 2 norm with center (2,6) "
   ]
  },
  {
   "cell_type": "markdown",
   "metadata": {},
   "source": [
    "# Q7 C"
   ]
  },
  {
   "cell_type": "code",
   "execution_count": 38,
   "metadata": {},
   "outputs": [
    {
     "name": "stdout",
     "output_type": "stream",
     "text": [
      "The 1 weights result in\n",
      "Makes 0.95, should be 0.3\n",
      "Makes 0.01, should be 0.9\n",
      "Makes 0.73, should be 0.7\n",
      "The 2 weights result in\n",
      "Makes 0.95, should be 0.3\n",
      "Makes 0.92, should be 0.9\n",
      "Makes 0.73, should be 0.7\n",
      "The 3 weights result in\n",
      "Makes 0.27, should be 0.3\n",
      "Makes 1.0, should be 0.9\n",
      "Makes 0.73, should be 0.7\n",
      "The 4 weights result in\n",
      "Makes 0.27, should be 0.3\n",
      "Makes 0.38, should be 0.9\n",
      "Makes 0.73, should be 0.7\n"
     ]
    }
   ],
   "source": [
    "from Functions import sigmoid\n",
    "\n",
    "def X(p):\n",
    "    x1,x2 = p\n",
    "    return np.array([1,x1,x2,x1*x2,(x1*x2)**2])\n",
    "points = [(-1,0), (1,1), (0,0)]\n",
    "real = [0.3, 0.9, 0.7]\n",
    "W = np.array([\n",
    "    [1, - 2, -0.5, - 1, - 2],\n",
    "    [1, - 2, 0.5, 1, 2],\n",
    "    [1, 2, 0.5, 1, 2],\n",
    "    [1, 2, - 0.5, - 1, - 2]\n",
    "])\n",
    "\n",
    "for i, w in enumerate(W):\n",
    "    print(f'The {i+1} weights result in')\n",
    "    for j, point in enumerate(points):\n",
    "        print(f'Makes {round(sigmoid(X(point).dot(w)),2)}, should be {real[j]}')"
   ]
  },
  {
   "cell_type": "markdown",
   "metadata": {},
   "source": [
    "# Q8 B IFFy"
   ]
  },
  {
   "cell_type": "code",
   "execution_count": 39,
   "metadata": {},
   "outputs": [],
   "source": [
    "# A False, more should be better\n",
    "# B True?\n",
    "# C Not always\n",
    "# D NB we cannot say variance for NB??"
   ]
  },
  {
   "cell_type": "markdown",
   "metadata": {},
   "source": [
    "# Q9 E IGNORE"
   ]
  },
  {
   "cell_type": "code",
   "execution_count": 43,
   "metadata": {},
   "outputs": [
    {
     "data": {
      "text/plain": [
       "6.42"
      ]
     },
     "execution_count": 43,
     "metadata": {},
     "output_type": "execute_result"
    }
   ],
   "source": [
    "# NB, remember multiplication in likelihood\n",
    "# first prob of desired \n",
    "likelihoods1 = np.array([0.63, 0.2])\n",
    "likelihoods2 = np.array([0.63,0.17,.48,.21])\n",
    "likelihoods3 = np.array([0.05,0.15,.2,.22])\n",
    "priors = np.array([])\n",
    "l = np.prod(likelihoods1)*sum(likelihoods1)\n",
    "e = (np.prod(likelihoods2)*sum(likelihoods2)+np.prod(likelihoods3)*sum(likelihoods3))\n",
    "round(l/e, 3)"
   ]
  },
  {
   "cell_type": "markdown",
   "metadata": {},
   "source": [
    "# Q10 D"
   ]
  },
  {
   "cell_type": "code",
   "execution_count": 116,
   "metadata": {},
   "outputs": [
    {
     "data": {
      "text/plain": [
       "(0.8472978603872037, 0.4054651081081642, 0.1353352832366127, 7.38905609893065)"
      ]
     },
     "execution_count": 116,
     "metadata": {},
     "output_type": "execute_result"
    }
   ],
   "source": [
    "# A False there is replacement\n",
    "# B False error rate determines the importance\n",
    "# C False, it can improve a lot\n",
    "# D True\n",
    "# sinc ethe sum is the normalising factor, less errors mean higher weight\n",
    "# on the errors\n",
    "np.log((1-0.3)/0.3), np.log((1-0.4)/0.4), np.exp(-2), np.exp(2)"
   ]
  },
  {
   "cell_type": "markdown",
   "metadata": {},
   "source": [
    "# Q11 B"
   ]
  },
  {
   "cell_type": "code",
   "execution_count": 121,
   "metadata": {},
   "outputs": [
    {
     "data": {
      "text/plain": [
       "array([[0.9725, 0.8875],\n",
       "       [0.9775, 0.7975]])"
      ]
     },
     "execution_count": 121,
     "metadata": {},
     "output_type": "execute_result"
    }
   ],
   "source": [
    "# \n",
    "c11 = np.array([-0.78, -0.32, -0.69, 0.7])\n",
    "c12 = np.array([-0.9, -0.22, -0.47, 0.44])\n",
    "c21 = np.array([1.61, 1.15, 1.9, 2.05])\n",
    "c22 = np.array([1.06, 0.72, 1.75, 2.06])\n",
    "mu = np.array([c11.mean(), c12.mean(), c21.mean(), c22.mean()]).reshape((-1,2))\n",
    "sigma = np.array([c11.std(), c12.std(), c21.std(), c22.std()])\n",
    "np.abs(mu-np.array([0.7,0.6])) # slightly closer to class one's mean\n",
    "# with equal std it is simply minimum distance"
   ]
  },
  {
   "cell_type": "markdown",
   "metadata": {},
   "source": [
    "# Q12 B"
   ]
  },
  {
   "cell_type": "code",
   "execution_count": 50,
   "metadata": {},
   "outputs": [
    {
     "data": {
      "text/plain": [
       "342"
      ]
     },
     "execution_count": 50,
     "metadata": {},
     "output_type": "execute_result"
    }
   ],
   "source": [
    "k1 = 6\n",
    "k2 = 5\n",
    "n_kmeans = 5\n",
    "n_dtree = 6\n",
    "# with test, there are two models per test\n",
    "n1 = k1*(k2*(n_kmeans+n_dtree) + 2)\n",
    "n1"
   ]
  },
  {
   "cell_type": "markdown",
   "metadata": {},
   "source": [
    "# Q13 D Do stare at last"
   ]
  },
  {
   "cell_type": "code",
   "execution_count": 51,
   "metadata": {},
   "outputs": [],
   "source": [
    "# Question asks to find the set in which 1NN has 12  wrong, 3NN 0 and 5NN 12\n",
    "# Starting at D1\n",
    "# 1NN: Fine\n",
    "# 3NN: gets the first one wrong so cannot live up to the requirement\n",
    "\n",
    "# D2:\n",
    "# o3 has correct 5NN so d´cannot either"
   ]
  },
  {
   "cell_type": "markdown",
   "metadata": {},
   "source": [
    "# Q14 B"
   ]
  },
  {
   "cell_type": "code",
   "execution_count": 125,
   "metadata": {},
   "outputs": [
    {
     "data": {
      "text/plain": [
       "0.2826"
      ]
     },
     "execution_count": 125,
     "metadata": {},
     "output_type": "execute_result"
    }
   ],
   "source": [
    "# \n",
    "N = 400\n",
    "n = np.array([124, 104, 112, 60])\n",
    "ns = np.array([124, 52, 28, 12])\n",
    "p1 = 124/124\n",
    "p2 = 52/104\n",
    "p3 = 28/112\n",
    "p4 = 12/n[3]\n",
    "# p(c=2|s=1) = p(s=1|c=2)*p(c=2)/sum(p(s=1|c)*p(c=c) for all c)\n",
    "nom = p2*(n[1]/N)\n",
    "denom = sum(((n-ns)/n)*(n/N)) # since they ns is number of small, use number\n",
    "# big to get correct answer\n",
    "round(nom/denom,4) "
   ]
  },
  {
   "cell_type": "markdown",
   "metadata": {},
   "source": [
    "# Q15 C"
   ]
  },
  {
   "cell_type": "code",
   "execution_count": 126,
   "metadata": {},
   "outputs": [
    {
     "name": "stdout",
     "output_type": "stream",
     "text": [
      "200\n",
      "51 58\n"
     ]
    }
   ],
   "source": [
    "# A leave one out means every point is held out once therefore it is N not N-1\n",
    "print(16+36+22+126)\n",
    "# B Error rate is N wrong/N, LG > DT, False\n",
    "print(45+6, 22+36)\n",
    "# C the number in class 2 is 148 so acc 148/200, whereas DT gets 142/200\n",
    "# therefore big class classification would be more accurate\n",
    "# D Blantantly False"
   ]
  },
  {
   "cell_type": "markdown",
   "metadata": {},
   "source": [
    "# Q16 D CHECK _Out"
   ]
  },
  {
   "cell_type": "code",
   "execution_count": 66,
   "metadata": {},
   "outputs": [],
   "source": [
    "# look at zero as this is the point at which nul hypothesis is rejected\n",
    "# Test 1 shows the greatest difference, this is between 1 and 3\n",
    "# Test 2 shows the greatest overlap thus 2 and 3\n",
    "# Test 3 shows medium closeness and is therefore 1 and 2"
   ]
  },
  {
   "cell_type": "markdown",
   "metadata": {},
   "source": [
    "# Q17 A"
   ]
  },
  {
   "cell_type": "code",
   "execution_count": 127,
   "metadata": {},
   "outputs": [
    {
     "name": "stdout",
     "output_type": "stream",
     "text": [
      "[6.833 5.   ]\n"
     ]
    }
   ],
   "source": [
    "# Find the lambdas first\n",
    "# it 1 it is \n",
    "l1 = 10\n",
    "l2 = 0.1\n",
    "# x0 is mean y\n",
    "w0 = [np.array([10,7,10,9,4,1]).mean(), np.array([7,6,4,3,5,5]).mean()]\n",
    "print(np.round(w0, 3)) # A or C, \n",
    "# from large lambda to smaller lambda means from smaller to larger weights"
   ]
  },
  {
   "cell_type": "markdown",
   "metadata": {},
   "source": [
    "# Q18 A"
   ]
  },
  {
   "cell_type": "code",
   "execution_count": 70,
   "metadata": {},
   "outputs": [
    {
     "data": {
      "image/png": "[encoded data removed]",
      "text/plain": [
       "<Figure size 640x480 with 1 Axes>"
      ]
     },
     "metadata": {},
     "output_type": "display_data"
    },
    {
     "data": {
      "image/png": "[encoded data removed]",
      "text/plain": [
       "<Figure size 640x480 with 1 Axes>"
      ]
     },
     "metadata": {},
     "output_type": "display_data"
    },
    {
     "data": {
      "image/png": "[encoded data removed]",
      "text/plain": [
       "<Figure size 640x480 with 1 Axes>"
      ]
     },
     "metadata": {},
     "output_type": "display_data"
    },
    {
     "data": {
      "image/png": "[encoded data removed]",
      "text/plain": [
       "<Figure size 640x480 with 1 Axes>"
      ]
     },
     "metadata": {},
     "output_type": "display_data"
    }
   ],
   "source": [
    "from Functions import ROC_plot\n",
    "import matplotlib.pyplot as plt\n",
    "points = np.array([1,2,3,4,5,6,7])\n",
    "classes = np.array([[1,1,0,0,0,1,0],\n",
    "                    [0,1,1,0,0,0,1],\n",
    "                    [0,1,0,0,0,1,1],\n",
    "                    [0,1,1,0,1,0,0]])\n",
    "for c in classes:\n",
    "    ROC_plot(points, c)\n",
    "    plt.show()"
   ]
  },
  {
   "cell_type": "markdown",
   "metadata": {},
   "source": [
    "# Q19 B"
   ]
  },
  {
   "cell_type": "code",
   "execution_count": 71,
   "metadata": {},
   "outputs": [],
   "source": [
    "# A iterate\n",
    "# B high bias low variance with big regularisation\n",
    "# C False\n",
    "# D Not always"
   ]
  },
  {
   "cell_type": "markdown",
   "metadata": {},
   "source": [
    "# Q20 D"
   ]
  },
  {
   "cell_type": "code",
   "execution_count": 72,
   "metadata": {},
   "outputs": [],
   "source": [
    "# 1 is Mreg\n",
    "# 2 is CT\n",
    "# 3 is ANN\n",
    "# 4 is 3NN"
   ]
  },
  {
   "cell_type": "markdown",
   "metadata": {},
   "source": [
    "# Q21 A"
   ]
  },
  {
   "cell_type": "code",
   "execution_count": 129,
   "metadata": {},
   "outputs": [
    {
     "data": {
      "text/plain": [
       "(4.4, 33.2)"
      ]
     },
     "execution_count": 129,
     "metadata": {},
     "output_type": "execute_result"
    }
   ],
   "source": [
    "from numpy.linalg import norm\n",
    "X = np.array([1,1,4,\n",
    "              1,2,7,\n",
    "              1,3,2,\n",
    "              1,4,9,\n",
    "              1,5,0]).reshape((-1,3))\n",
    "\n",
    "y = np.array([4,7,0,3,1])\n",
    "\n",
    "def f(X, y):\n",
    "    w = np.array([1,-10, 4, 2])\n",
    "    shape = X.shape\n",
    "    X1 = np.zeros((X.shape[0],X.shape[1]+1))\n",
    "    X1[:, :3] = X\n",
    "    X1[:, 3] = X[:,1]*X[:,2]\n",
    "    L1 = np.sum(np.abs(y-np.sum(X1*w,axis=1)))\n",
    "    return L1/len(y), norm(w, np.inf)\n",
    "\n",
    "E, temp = f(X,y)\n",
    "# 33.2+x*10 = 37.6 => \n",
    "round(37.6-E,8),E"
   ]
  },
  {
   "cell_type": "markdown",
   "metadata": {},
   "source": [
    "# Q22 B"
   ]
  },
  {
   "cell_type": "code",
   "execution_count": 92,
   "metadata": {},
   "outputs": [
    {
     "name": "stdout",
     "output_type": "stream",
     "text": [
      "1.1435256524548005\n",
      "2.412012382655581\n",
      "0.9183879036831774\n",
      "1.9325946733169288\n"
     ]
    }
   ],
   "source": [
    "import seaborn as sns\n",
    "from Functions import sigmoid\n",
    "\n",
    "def NN(x, W):\n",
    "    out = 0\n",
    "    w2 = [-2.4, 2.6]\n",
    "    for i in range(2):\n",
    "        out += sigmoid(x.dot(W[i]))*(w2[i])\n",
    "    out += 1.4\n",
    "    return max(out,0)\n",
    "\n",
    "W = np.array([[0,0.3,0.6],[1.2,0.4,1.9]])\n",
    "X = np.array([[1, -2, -2],\n",
    "              [1, -2, 2],\n",
    "              [1, 2, -2],\n",
    "              [1, 2, 2]\n",
    "])\n",
    "for x in X:\n",
    "    print(NN(x, W))\n"
   ]
  },
  {
   "cell_type": "markdown",
   "metadata": {},
   "source": [
    "# Q23 B"
   ]
  },
  {
   "cell_type": "code",
   "execution_count": 93,
   "metadata": {},
   "outputs": [],
   "source": [
    "# o1 belongs to 3, as it has higher weight\n",
    "# o2 belongs to 3 as it has a higher value 0.01>0.02 equal weight\n",
    "# o3 belongs to 2\n",
    "# o4 belongs to 1"
   ]
  },
  {
   "cell_type": "markdown",
   "metadata": {},
   "source": [
    "# Q24 C"
   ]
  },
  {
   "cell_type": "code",
   "execution_count": 94,
   "metadata": {},
   "outputs": [],
   "source": [
    "# Support for rule is support for Union >= 0.25 \n",
    "# anything -> f1\n",
    "# f2 has 3/16, not enough\n",
    "# f3 has 4/16\n",
    "# f4 has 6/16\n",
    "# f3,f4 has 4/16\n",
    "# so f3, f4, f3andf4"
   ]
  },
  {
   "cell_type": "markdown",
   "metadata": {},
   "source": [
    "# Q25 B??"
   ]
  },
  {
   "cell_type": "code",
   "execution_count": 156,
   "metadata": {},
   "outputs": [
    {
     "data": {
      "text/plain": [
       "36"
      ]
     },
     "execution_count": 156,
     "metadata": {},
     "output_type": "execute_result"
    }
   ],
   "source": [
    "# f1 got x2 and x6 wrong\n",
    "# \n",
    "# 2 makes no sense\n",
    "# SHOULD haV LOOKED AT THE SOFTMAX"
   ]
  },
  {
   "cell_type": "markdown",
   "metadata": {},
   "source": [
    "# Q26 A"
   ]
  },
  {
   "cell_type": "code",
   "execution_count": 105,
   "metadata": {},
   "outputs": [
    {
     "data": {
      "text/plain": [
       "1.9901654159566402"
      ]
     },
     "execution_count": 105,
     "metadata": {},
     "output_type": "execute_result"
    }
   ],
   "source": [
    "X = np.array([0.3,1,2.5,1.3,2.1,0.6,3.3,0.2,2.8,5.8,2.8,4.2,2.7,6.7,5.7,5.5,-0.5,1.9,-2.5,0.2,-0.6,1,-0.8,0.3]).reshape((-1,2))\n",
    "def coss(x1,x2):\n",
    "    return 1-x1.dot(x2)/(norm(x1)*norm(x2))\n",
    "\n",
    "# Ive found the maximum, this means A is True, cos goes from -1,1, thus 1--1=2\n",
    "maxx = 0\n",
    "for x in X:\n",
    "    for el in X:\n",
    "        if sum(x-el):\n",
    "            maxx = max(coss(x,el), maxx)\n",
    "maxx"
   ]
  },
  {
   "cell_type": "markdown",
   "metadata": {},
   "source": [
    "# Q27 E On hold"
   ]
  },
  {
   "cell_type": "code",
   "execution_count": 109,
   "metadata": {},
   "outputs": [
    {
     "name": "stdout",
     "output_type": "stream",
     "text": [
      "Q0: 0.42857142857142855 0.7\n",
      "Q1: 0.5 0.8\n",
      "Q2: 0.4 0.4\n",
      "Q3: 0.5 1.0\n",
      "Q0: 0.5 0.5\n",
      "Q1: 0.5714285714285714 0.6\n",
      "Q2: 0.2 0.4\n",
      "Q3: 0.5714285714285714 0.8\n",
      "Q0: 0.2857142857142857 0.9\n",
      "Q1: 0.6 0.8\n",
      "Q2: 0.2 0.4\n",
      "Q3: 0.5555555555555556 0.8\n"
     ]
    }
   ],
   "source": [
    "from Functions import Jaccard_Index, Rand_Index\n",
    "Z = np.array([[3,2,i,3,2] for i in range(1,4)])\n",
    "Q = np.array([[1,3,1,1,2], [2,1,2,3,1], [1,2,1,2,1], [1,2,3,1,2]])\n",
    "for z in Z:\n",
    "    for j, q in enumerate(Q):\n",
    "        print(f'Q{j}: {Jaccard_Index(z,q)} {Rand_Index(z,q)}')"
   ]
  },
  {
   "cell_type": "code",
   "execution_count": 172,
   "metadata": {},
   "outputs": [
    {
     "data": {
      "text/plain": [
       "0.8296296296296296"
      ]
     },
     "execution_count": 172,
     "metadata": {},
     "output_type": "execute_result"
    }
   ],
   "source": [
    "n = 27\n",
    "((n-4)*5-3)/(n*5)"
   ]
  }
 ],
 "metadata": {
  "kernelspec": {
   "display_name": "Python 3 (ipykernel)",
   "language": "python",
   "name": "python3"
  },
  "language_info": {
   "codemirror_mode": {
    "name": "ipython",
    "version": 3
   },
   "file_extension": ".py",
   "mimetype": "text/x-python",
   "name": "python",
   "nbconvert_exporter": "python",
   "pygments_lexer": "ipython3",
   "version": "3.10.5"
  }
 },
 "nbformat": 4,
 "nbformat_minor": 1
}
